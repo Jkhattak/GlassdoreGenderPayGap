{
 "cells": [
  {
   "cell_type": "code",
   "execution_count": null,
   "id": "8dd8f827",
   "metadata": {},
   "outputs": [],
   "source": [
    "import pandas as pd \n",
    "import numpy as np\n",
    "import matplotlib.pyplot as plt\n",
    "import seaborn as sns"
   ]
  },
  {
   "cell_type": "code",
   "execution_count": null,
   "id": "7c48c6b2",
   "metadata": {},
   "outputs": [],
   "source": [
    "df = pd.read_csv('Glassdoor Gender Pay Gap.csv') #Reads .csv file"
   ]
  },
  {
   "cell_type": "code",
   "execution_count": null,
   "id": "b8d9fc75",
   "metadata": {},
   "outputs": [],
   "source": [
    "df.head() #Returns first 5 rows of data"
   ]
  },
  {
   "cell_type": "code",
   "execution_count": null,
   "id": "58491211",
   "metadata": {},
   "outputs": [],
   "source": [
    "df.shape #Give dimensions of the dataframe"
   ]
  },
  {
   "cell_type": "code",
   "execution_count": null,
   "id": "f86b26f9",
   "metadata": {},
   "outputs": [],
   "source": [
    "df.info() #Shows information about the data and the types of data"
   ]
  },
  {
   "cell_type": "code",
   "execution_count": null,
   "id": "a73c6c66",
   "metadata": {},
   "outputs": [],
   "source": [
    "df.isna().sum() #Shows the amount of missing values from dataframe"
   ]
  },
  {
   "cell_type": "code",
   "execution_count": null,
   "id": "79c55a05",
   "metadata": {},
   "outputs": [],
   "source": [
    "df.columns #Shows the columns of the dataframe"
   ]
  },
  {
   "cell_type": "code",
   "execution_count": null,
   "id": "c6a0f410",
   "metadata": {},
   "outputs": [],
   "source": [
    "sns.pairplot(df) #Shows plots of the correlations and relationships between the variables in the dataframe"
   ]
  }
 ],
 "metadata": {
  "kernelspec": {
   "display_name": "Python 3 (ipykernel)",
   "language": "python",
   "name": "python3"
  },
  "language_info": {
   "codemirror_mode": {
    "name": "ipython",
    "version": 3
   },
   "file_extension": ".py",
   "mimetype": "text/x-python",
   "name": "python",
   "nbconvert_exporter": "python",
   "pygments_lexer": "ipython3",
   "version": "3.9.7"
  }
 },
 "nbformat": 4,
 "nbformat_minor": 5
}
