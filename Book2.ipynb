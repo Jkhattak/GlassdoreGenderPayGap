{
 "cells": [
  {
   "cell_type": "code",
   "execution_count": null,
   "id": "5fa3abdd",
   "metadata": {},
   "outputs": [],
   "source": [
    "df.columns"
   ]
  },
  {
   "cell_type": "code",
   "execution_count": null,
   "id": "11e68121",
   "metadata": {},
   "outputs": [],
   "source": [
    "# Job title and gender\n",
    "Male_Job_Title = df.loc[df['Gender'] == 'Male', ['JobTitle', 'Gender']]\n",
    "Male_Job_Title"
   ]
  },
  {
   "cell_type": "code",
   "execution_count": null,
   "id": "278c19ec",
   "metadata": {},
   "outputs": [],
   "source": [
    "Female_JobTitle = df.loc[df['Gender']=='Female', ['JobTitle', 'Gender']]\n",
    "Female_JobTitle"
   ]
  },
  {
   "cell_type": "code",
   "execution_count": null,
   "id": "2bbf5469",
   "metadata": {},
   "outputs": [],
   "source": [
    "Male_Job_Title.describe() # Male job title description"
   ]
  },
  {
   "cell_type": "code",
   "execution_count": null,
   "id": "d96ff898",
   "metadata": {},
   "outputs": [],
   "source": [
    "Male_Job_Title['JobTitle'].value_counts() # Number of different Job Title taken by male"
   ]
  },
  {
   "cell_type": "code",
   "execution_count": null,
   "id": "364c5adc",
   "metadata": {},
   "outputs": [],
   "source": [
    "Male_Job_Count = Male_Job_Title['JobTitle'].value_counts() / Male_Job_Title['JobTitle'].value_counts().sum() * 100 #Percentage of job title for male\n",
    "Male_Job_Count"
   ]
  },
  {
   "cell_type": "code",
   "execution_count": null,
   "id": "8fc92aea",
   "metadata": {},
   "outputs": [],
   "source": [
    "fig, ax = plt.subplots(figsize=(20,10))\n",
    "sns.barplot(x = Male_Job_Count.index, y = Male_Job_Count.values)\n",
    "plt.show()"
   ]
  },
  {
   "cell_type": "code",
   "execution_count": null,
   "id": "b0451260",
   "metadata": {},
   "outputs": [],
   "source": [
    "Female_JobTitle.describe() #Female job description  "
   ]
  },
  {
   "cell_type": "code",
   "execution_count": null,
   "id": "7ebdfb21",
   "metadata": {},
   "outputs": [],
   "source": [
    "Female_JobTitle['JobTitle'].value_counts() #Quant. data for Female job titl"
   ]
  },
  {
   "cell_type": "code",
   "execution_count": null,
   "id": "906264e2",
   "metadata": {},
   "outputs": [],
   "source": [
    "Female_Job_Count = Female_JobTitle['JobTitle'].value_counts() / Female_JobTitle['JobTitle'].value_counts().sum() * 100 #percentage of female employees based on job title \n",
    "Female_Job_Count"
   ]
  },
  {
   "cell_type": "code",
   "execution_count": null,
   "id": "14783585",
   "metadata": {},
   "outputs": [],
   "source": [
    "fig, ax = plt.subplots(figsize=(20,10))\n",
    "sns.barplot(x=Female_Job_Count.index, y = Female_Job_Count.values, ax=ax)\n",
    "plt.show()"
   ]
  },
  {
   "cell_type": "code",
   "execution_count": null,
   "id": "d625efac",
   "metadata": {},
   "outputs": [],
   "source": [
    "fig, ax = plt.subplots(figsize=(20,10))\n",
    "sns.histplot(x = df['JobTitle'], hue = 'Gender', data = df, palette=\"Set2\")\n",
    "plt.show()"
   ]
  },
  {
   "cell_type": "code",
   "execution_count": null,
   "id": "f7251444",
   "metadata": {},
   "outputs": [],
   "source": [
    "df.head()"
   ]
  },
  {
   "cell_type": "code",
   "execution_count": null,
   "id": "a2342fa6",
   "metadata": {},
   "outputs": [],
   "source": [
    "df['TotalSalary'] = df['BasePay'] + df['Bonus'] #created a new column that adds both bonuses and total salary"
   ]
  },
  {
   "cell_type": "code",
   "execution_count": null,
   "id": "83c64986",
   "metadata": {},
   "outputs": [],
   "source": [
    "df.head()"
   ]
  },
  {
   "cell_type": "code",
   "execution_count": null,
   "id": "d02a9a1f",
   "metadata": {},
   "outputs": [],
   "source": [
    "Female_Salary = df.loc[df['Gender']=='Female', ['JobTitle', 'TotalSalary']]\n",
    "Female_Salary"
   ]
  },
  {
   "cell_type": "code",
   "execution_count": null,
   "id": "addb8040",
   "metadata": {},
   "outputs": [],
   "source": [
    "Male_Salary = df.loc[df['Gender']=='Male', ['JobTitle', 'TotalSalary']]\n",
    "Male_Salary"
   ]
  },
  {
   "cell_type": "code",
   "execution_count": null,
   "id": "13f66a47",
   "metadata": {},
   "outputs": [],
   "source": [
    "Female_Salary = df.loc[df['Gender']=='Female', ['JobTitle', 'TotalSalary']]\n",
    "Female_Salary"
   ]
  },
  {
   "cell_type": "code",
   "execution_count": null,
   "id": "7c1f81f9",
   "metadata": {},
   "outputs": [],
   "source": [
    "Female_Salary = df.loc[df['Gender']=='Female', ['TotalSalary']]\n",
    "Female_Salary"
   ]
  },
  {
   "cell_type": "code",
   "execution_count": null,
   "id": "1e36ae18",
   "metadata": {},
   "outputs": [],
   "source": [
    "Male_Salary = df.loc[df['Gender'] == 'Male', ['TotalSalary']]\n",
    "Male_Salary"
   ]
  },
  {
   "cell_type": "code",
   "execution_count": null,
   "id": "9515ca2e",
   "metadata": {},
   "outputs": [],
   "source": [
    "df.head()"
   ]
  },
  {
   "cell_type": "code",
   "execution_count": null,
   "id": "2e2bd62b",
   "metadata": {},
   "outputs": [],
   "source": [
    "job_titles = np.array(df['JobTitle'])\n",
    "job_titles.shape"
   ]
  },
  {
   "cell_type": "code",
   "execution_count": null,
   "id": "47dd4c13",
   "metadata": {},
   "outputs": [],
   "source": [
    "fig, ax = plt.subplots(figsize=(20,10))\n",
    "sns.barplot(x=Female_Job_Count.index, y = Female_Job_Count.values, ax=ax)\n",
    "plt.show()"
   ]
  },
  {
   "cell_type": "code",
   "execution_count": null,
   "id": "8e35c1e6",
   "metadata": {},
   "outputs": [],
   "source": [
    "avg_salary = df.groupby(['JobTitle', 'Gender']).mean().reset_index()"
   ]
  },
  {
   "cell_type": "code",
   "execution_count": null,
   "id": "20763bf4",
   "metadata": {},
   "outputs": [],
   "source": [
    "fig, ax = plt.subplots(figsize=(20, 10))\n",
    "bar_width = 0.35\n",
    "x_male = [i - bar_width/2 for i in range(len(set(avg_salary['JobTitle'])))]\n",
    "\n",
    "x_female = [i + bar_width/2 for i in range(len(set(avg_salary['JobTitle'])))]\n",
    "\n",
    "ax.bar(x_male, avg_salary[avg_salary['Gender']=='Male']['TotalSalary'], bar_width, label='Male')\n",
    "ax.bar(x_female, avg_salary[avg_salary['Gender']=='Female']['TotalSalary'], bar_width, label='Female')\n",
    "\n",
    "# Add xticks and labels\n",
    "plt.xlabel('Job Title', fontweight='bold')\n",
    "plt.ylabel('TotalSalary', fontweight='bold')\n",
    "plt.xticks(range(len(set(avg_salary['JobTitle']))), set(avg_salary['JobTitle']))\n",
    "\n",
    "\n",
    "plt.legend()\n",
    "\n",
    "plt.show()"
   ]
  },
  {
   "cell_type": "code",
   "execution_count": null,
   "id": "09e4b8d3",
   "metadata": {},
   "outputs": [],
   "source": [
    "df.head()"
   ]
  }
 ],
 "metadata": {
  "kernelspec": {
   "display_name": "Python 3 (ipykernel)",
   "language": "python",
   "name": "python3"
  },
  "language_info": {
   "codemirror_mode": {
    "name": "ipython",
    "version": 3
   },
   "file_extension": ".py",
   "mimetype": "text/x-python",
   "name": "python",
   "nbconvert_exporter": "python",
   "pygments_lexer": "ipython3",
   "version": "3.9.7"
  }
 },
 "nbformat": 4,
 "nbformat_minor": 5
}
